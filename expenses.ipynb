{
  "nbformat": 4,
  "nbformat_minor": 0,
  "metadata": {
    "colab": {
      "provenance": [],
      "authorship_tag": "ABX9TyMR465Obo8ETRW6waIn8xUg",
      "include_colab_link": true
    },
    "kernelspec": {
      "name": "python3",
      "display_name": "Python 3"
    },
    "language_info": {
      "name": "python"
    }
  },
  "cells": [
    {
      "cell_type": "markdown",
      "metadata": {
        "id": "view-in-github",
        "colab_type": "text"
      },
      "source": [
        "<a href=\"https://colab.research.google.com/github/askinsj2022/Prob-and-Stats/blob/main/expenses.ipynb\" target=\"_parent\"><img src=\"https://colab.research.google.com/assets/colab-badge.svg\" alt=\"Open In Colab\"/></a>"
      ]
    },
    {
      "cell_type": "code",
      "execution_count": 1,
      "metadata": {
        "colab": {
          "base_uri": "https://localhost:8080/"
        },
        "id": "rR2Efjw656GV",
        "outputId": "3c2f6333-3f9e-49d0-f467-f584f8835d1f"
      },
      "outputs": [
        {
          "output_type": "stream",
          "name": "stdout",
          "text": [
            "The Objective of this code is too Create a program that allows users to track their expenses.\n",
            "Enter the name of the expense (or 'done' to finish): gas\n",
            "Enter the amount for this expense: $50\n",
            "Enter the name of the expense (or 'done' to finish): food\n",
            "Enter the amount for this expense: $100\n",
            "Enter the name of the expense (or 'done' to finish): rent\n",
            "Enter the amount for this expense: $1450\n",
            "Enter the name of the expense (or 'done' to finish): utilities\n",
            "Enter the amount for this expense: $150\n",
            "Enter the name of the expense (or 'done' to finish): gas\n",
            "Enter the amount for this expense: $50\n",
            "Enter the name of the expense (or 'done' to finish): food\n",
            "Enter the amount for this expense: $100\n",
            "Enter the name of the expense (or 'done' to finish): done\n",
            "\n",
            "Expense Summary:\n",
            "Gas: $100.00\n",
            "Food: $200.00\n",
            "Rent: $1450.00\n",
            "Utilities: $150.00\n",
            "\n",
            "Total Expenses: $1900.00\n"
          ]
        }
      ],
      "source": [
        "print(\"The Objective of this code is too Create a program that allows users to track their expenses.\")\n",
        "\n",
        "def main():\n",
        "    expenses = {}\n",
        "    while True:\n",
        "\n",
        "        expense_name = input(\"Enter the name of the expense (or 'done' to finish): \").lower()\n",
        "        if expense_name == 'done':\n",
        "            break\n",
        "        try:\n",
        "            expense_amount = float(input(\"Enter the amount for this expense: $\"))\n",
        "        except ValueError:\n",
        "            print(\"Please enter a valid amount.\")\n",
        "            continue\n",
        "\n",
        "\n",
        "        if expense_name in expenses:\n",
        "            expenses[expense_name] += expense_amount\n",
        "        else:\n",
        "            expenses[expense_name] = expense_amount\n",
        "\n",
        "\n",
        "    total_expenses = sum(expenses.values())\n",
        "\n",
        "\n",
        "    print(\"\\nExpense Summary:\")\n",
        "    for name, amount in expenses.items():\n",
        "        print(f\"{name.capitalize()}: ${amount:.2f}\")\n",
        "    print(f\"\\nTotal Expenses: ${total_expenses:.2f}\")\n",
        "\n",
        "if __name__ == \"__main__\":\n",
        "    main()\n"
      ]
    }
  ]
}