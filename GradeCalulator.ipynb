{
  "nbformat": 4,
  "nbformat_minor": 0,
  "metadata": {
    "colab": {
      "provenance": [],
      "authorship_tag": "ABX9TyMl0p4qva+FQdwLD0l39+wR",
      "include_colab_link": true
    },
    "kernelspec": {
      "name": "python3",
      "display_name": "Python 3"
    },
    "language_info": {
      "name": "python"
    }
  },
  "cells": [
    {
      "cell_type": "markdown",
      "metadata": {
        "id": "view-in-github",
        "colab_type": "text"
      },
      "source": [
        "<a href=\"https://colab.research.google.com/github/askinsj2022/Prob-and-Stats/blob/main/GradeCalulator.ipynb\" target=\"_parent\"><img src=\"https://colab.research.google.com/assets/colab-badge.svg\" alt=\"Open In Colab\"/></a>"
      ]
    },
    {
      "cell_type": "code",
      "execution_count": null,
      "metadata": {
        "colab": {
          "base_uri": "https://localhost:8080/"
        },
        "id": "MdUiyocjBbtw",
        "outputId": "cca43ea3-1c59-44bd-8ec6-5a5c0baf72f9"
      },
      "outputs": [
        {
          "output_type": "stream",
          "name": "stdout",
          "text": [
            "For this code, it is programmed to calculate what desired grade you would need in a class if the grade was based on 3 exams and Homework\n",
            "Please enter the Percent homework counts towards the Final Grade in this class: 10\n",
            "Please enter the Percent Test 1 counts towards the Final Grade in this class: 30\n",
            "Please enter the Percent Test 2 counts towards the Final Grade in this class: 30\n",
            "Please enter your Final Homework Grade: 90\n",
            "Please enter your Test 1 Grade: 30\n",
            "Please enter your Test 2 Grade: 80\n",
            "Please enter your desired grade in the Class: 73\n",
            "You will need to score this on your Final Exam:  104\n"
          ]
        }
      ],
      "source": [
        "print(\"For this code, it is programmed to calculate what desired grade you would need in a class if the grade was based on 3 exams and Homework\")\n",
        "\n",
        "PerHW = float(input(\"Please enter the Percent homework counts towards the Final Grade in this class: \"))\n",
        "PerT1 = float(input(\"Please enter the Percent Test 1 counts towards the Final Grade in this class: \"))\n",
        "PerT2 = float(input(\"Please enter the Percent Test 2 counts towards the Final Grade in this class: \"))\n",
        "PerT3 = 100 - PerT1 - PerHW - PerT2\n",
        "\n",
        "HW = float(input(\"Please enter your Final Homework Grade: \"))\n",
        "Test1 = float(input(\"Please enter your Test 1 Grade: \"))\n",
        "Test2 = float(input(\"Please enter your Test 2 Grade: \"))\n",
        "Test3 = 0\n",
        "total = (PerHW * HW * 0.01) + (PerT1 * Test1 * 0.01) + (PerT2 * Test2 * 0.01) + (PerT3 * Test3 * 0.01)\n",
        "\n",
        "final = float(input(\"Please enter your desired grade in the Class: \"))\n",
        "\n",
        "while total < final:\n",
        "  Test3 += 1\n",
        "  total = (PerHW * HW * 0.01) + (PerT1 * Test1 * 0.01) + (PerT2 * Test2 * 0.01) + (PerT3 * Test3 * 0.01)\n",
        "\n",
        "print(\"You will need to score this on your Final Exam: \",Test3)\n",
        "\n",
        "\n",
        "\n",
        "\n"
      ]
    }
  ]
}